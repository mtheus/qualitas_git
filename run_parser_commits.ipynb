{
 "cells": [
  {
   "cell_type": "code",
   "execution_count": null,
   "metadata": {},
   "outputs": [],
   "source": [
    "import re\n",
    "\n",
    "def parse_git_log(file_path):\n",
    "    commit_pattern = re.compile(r'^\\[([a-f0-9]+)\\] (.+) (\\d{4}-\\d{2}-\\d{2} \\d{2}:\\d{2}:\\d{2} [+-]\\d{4}) (.+)$')\n",
    "    file_pattern = re.compile(r'^(\\d+)\\s+(\\d+)\\s+(.+)$')\n",
    "\n",
    "    commits = []\n",
    "    files = []\n",
    "\n",
    "    with open(file_path, 'r', encoding='latin-1') as file:\n",
    "        lines = file.readlines()\n",
    "    \n",
    "    current_commit = None\n",
    "\n",
    "    for line in lines:\n",
    "        commit_match = commit_pattern.match(line.strip())\n",
    "        if commit_match:\n",
    "            commit_id, author, date, message = commit_match.groups()\n",
    "            current_commit = {\n",
    "                'commit_id': commit_id,\n",
    "                'author': author,\n",
    "                'date': date,\n",
    "                'message': message\n",
    "            }\n",
    "            commits.append(current_commit)\n",
    "        else:\n",
    "            file_match = file_pattern.match(line.strip())\n",
    "            if file_match and current_commit:\n",
    "                added, deleted, filepath = file_match.groups()\n",
    "                files.append({\n",
    "                    'commit_id': current_commit['commit_id'],\n",
    "                    'added': int(added),\n",
    "                    'deleted': int(deleted),\n",
    "                    'filepath': filepath\n",
    "                })\n",
    "\n",
    "    return commits, files"
   ]
  },
  {
   "cell_type": "code",
   "execution_count": null,
   "metadata": {},
   "outputs": [],
   "source": [
    "import os\n",
    "import pandas as pd\n",
    "import fasttext\n",
    "\n",
    "model = fasttext.load_model(\"classification/fasttext.model\")\n",
    "\n",
    "def process_log_files(task_id: str):\n",
    "    if os.path.exists(f\"logs/{task_id}_logfile.log\"):\n",
    "\n",
    "        commits, files = parse_git_log(f\"logs/{task_id}_logfile.log\")\n",
    "\n",
    "        commits_df = pd.DataFrame(commits)\n",
    "        files_df = pd.DataFrame(files)\n",
    "    \n",
    "        def classify_change(message):\n",
    "            return model.predict([message])[0][0][0]\n",
    "\n",
    "        commits_df['change_type'] = commits_df['message'].apply(classify_change)\n",
    "        commits_df['date'] = pd.to_datetime(commits_df['date'], format='%Y-%m-%d %H:%M:%S %z', utc=True)\n",
    "\n",
    "        commits_df = commits_df.sort_values(by='date')\n",
    "\n",
    "        files_df['filename'] = files_df['filepath']\n",
    "\n",
    "        commits_df.to_csv(f\"commits/{task_id}-commits.csv\")\n",
    "        files_df.to_csv(f\"commits/{task_id}-files.csv\")\n"
   ]
  },
  {
   "cell_type": "code",
   "execution_count": null,
   "metadata": {},
   "outputs": [],
   "source": [
    "log_dir = \"logs/\"\n",
    "for filename in os.listdir(log_dir):\n",
    "    if filename.endswith(\"_all_files.csv\"):\n",
    "        task_id = filename.replace(\"_all_files.csv\", \"\")\n",
    "        process_log_files(task_id)"
   ]
  }
 ],
 "metadata": {
  "kernelspec": {
   "display_name": "Python 3",
   "language": "python",
   "name": "python3"
  },
  "language_info": {
   "codemirror_mode": {
    "name": "ipython",
    "version": 3
   },
   "file_extension": ".py",
   "mimetype": "text/x-python",
   "name": "python",
   "nbconvert_exporter": "python",
   "pygments_lexer": "ipython3",
   "version": "3.11.9"
  }
 },
 "nbformat": 4,
 "nbformat_minor": 2
}
